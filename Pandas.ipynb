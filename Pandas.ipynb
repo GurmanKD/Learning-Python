{
 "cells": [
  {
   "cell_type": "markdown",
   "id": "7b472680",
   "metadata": {},
   "source": [
    "# Pandas\n",
    "- provides high-performance, easy to use data structures and data analysis tools for Python"
   ]
  },
  {
   "cell_type": "code",
   "execution_count": 1,
   "id": "875f1ac6",
   "metadata": {},
   "outputs": [],
   "source": [
    "# Importing Pandas\n",
    "\n",
    "import pandas as pd\n",
    "import numpy as np"
   ]
  },
  {
   "cell_type": "code",
   "execution_count": null,
   "id": "129d1e6b",
   "metadata": {},
   "outputs": [],
   "source": [
    "# Playing with Dataframes\n",
    "\n",
    "df=pd.DataFrame"
   ]
  }
 ],
 "metadata": {
  "kernelspec": {
   "display_name": "Python 3 (ipykernel)",
   "language": "python",
   "name": "python3"
  },
  "language_info": {
   "codemirror_mode": {
    "name": "ipython",
    "version": 3
   },
   "file_extension": ".py",
   "mimetype": "text/x-python",
   "name": "python",
   "nbconvert_exporter": "python",
   "pygments_lexer": "ipython3",
   "version": "3.10.9"
  }
 },
 "nbformat": 4,
 "nbformat_minor": 5
}
